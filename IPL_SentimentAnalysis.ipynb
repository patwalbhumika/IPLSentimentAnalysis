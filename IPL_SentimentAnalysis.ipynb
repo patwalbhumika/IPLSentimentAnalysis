{
  "nbformat": 4,
  "nbformat_minor": 0,
  "metadata": {
    "colab": {
      "provenance": [],
      "mount_file_id": "1g9QXUvWufoapXMnjbePszlWo3j9xuzq5",
      "authorship_tag": "ABX9TyMSQfftmzODoVGoFwPrl/Tu",
      "include_colab_link": true
    },
    "kernelspec": {
      "name": "python3",
      "display_name": "Python 3"
    },
    "language_info": {
      "name": "python"
    }
  },
  "cells": [
    {
      "cell_type": "markdown",
      "metadata": {
        "id": "view-in-github",
        "colab_type": "text"
      },
      "source": [
        "<a href=\"https://colab.research.google.com/github/patwalbhumika/IPLSentimentAnalysis/blob/main/IPL_SentimentAnalysis.ipynb\" target=\"_parent\"><img src=\"https://colab.research.google.com/assets/colab-badge.svg\" alt=\"Open In Colab\"/></a>"
      ]
    },
    {
      "cell_type": "code",
      "execution_count": null,
      "metadata": {
        "colab": {
          "base_uri": "https://localhost:8080/"
        },
        "id": "X4vMqMaXx3fv",
        "outputId": "44406684-ab2c-4976-9630-b10c0e26c4ea"
      },
      "outputs": [
        {
          "output_type": "stream",
          "name": "stdout",
          "text": [
            "Drive already mounted at /content/drive; to attempt to forcibly remount, call drive.mount(\"/content/drive\", force_remount=True).\n"
          ]
        }
      ],
      "source": [
        "from google.colab import drive\n",
        "import pandas as pd\n",
        "drive.mount('/content/drive')"
      ]
    },
    {
      "cell_type": "code",
      "source": [
        "file_path = '/content/drive/MyDrive/Labelled_Dataset.csv'\n",
        "# Load dataset into pandas DataFrame\n",
        "data = pd.read_csv(file_path)\n",
        "\n",
        "#to display size\n",
        "print(\"size and columns of training_dataset- \",data.shape)\n",
        "\n",
        "#to display count of different values\n",
        "value_counts = data['Sentiment'].value_counts()\n",
        "print(value_counts)\n"
      ],
      "metadata": {
        "colab": {
          "base_uri": "https://localhost:8080/"
        },
        "id": "9Y1oTcygzMmy",
        "outputId": "881390c8-a63d-4ca5-b7ad-56dbdb2077d8"
      },
      "execution_count": null,
      "outputs": [
        {
          "output_type": "stream",
          "name": "stdout",
          "text": [
            "size and columns of training_dataset-  (1690, 2)\n",
            "Sentiment\n",
            "Positive    1246\n",
            "Neutral      292\n",
            "Negative     152\n",
            "Name: count, dtype: int64\n"
          ]
        }
      ]
    },
    {
      "cell_type": "code",
      "source": [
        "import pandas as pd\n",
        "from sklearn.feature_extraction.text import CountVectorizer\n",
        "from sklearn.model_selection import train_test_split\n",
        "print(\"DONE\")"
      ],
      "metadata": {
        "colab": {
          "base_uri": "https://localhost:8080/"
        },
        "id": "BkyZK9WmzbZe",
        "outputId": "26d20cda-9ad4-4fa3-9990-b50d5a0004f6"
      },
      "execution_count": null,
      "outputs": [
        {
          "output_type": "stream",
          "name": "stdout",
          "text": [
            "DONE\n"
          ]
        }
      ]
    },
    {
      "cell_type": "code",
      "source": [
        "x_train, x_test, y_train, y_test = train_test_split(data['english_text'], data['Sentiment'], test_size=0.2, random_state=42)\n",
        "\n",
        "#converts them into 1Darray\n",
        "y_train=y_train.values\n",
        "y_test=y_test.values\n"
      ],
      "metadata": {
        "id": "WkQ8mHwb0r9b"
      },
      "execution_count": null,
      "outputs": []
    },
    {
      "cell_type": "markdown",
      "source": [
        "#BAG OF WORDS"
      ],
      "metadata": {
        "id": "VWIqEEvoN9Zx"
      }
    },
    {
      "cell_type": "code",
      "source": [
        "# Initialising CountVectorizer\n",
        "vectorizer = CountVectorizer()\n",
        "\n",
        "# Fit and transform the training data\n",
        "x_train_bow = vectorizer.fit_transform(x_train)\n",
        "\n",
        "# Transform the testing data\n",
        "x_test_bow = vectorizer.transform(x_test)\n",
        "\n",
        "print(\"This is what Bag Of Words(BOW) Representation looks like-\")\n",
        "print(x_train_bow[:10].toarray())\n",
        "print(\"\\n**Bag Of Words SUCCESSFUL**\")"
      ],
      "metadata": {
        "colab": {
          "base_uri": "https://localhost:8080/"
        },
        "id": "F4ja51rUOCae",
        "outputId": "36ffab4c-1a62-4464-da89-4843b4086e5c"
      },
      "execution_count": null,
      "outputs": [
        {
          "output_type": "stream",
          "name": "stdout",
          "text": [
            "This is what Bag Of Words(BOW) Representation looks like-\n",
            "[[0 0 0 ... 0 0 0]\n",
            " [0 0 0 ... 0 0 0]\n",
            " [0 0 0 ... 0 0 0]\n",
            " ...\n",
            " [0 0 0 ... 0 0 0]\n",
            " [0 0 0 ... 0 0 0]\n",
            " [0 0 0 ... 0 0 0]]\n",
            "\n",
            "**Bag Of Words SUCCESSFUL**\n"
          ]
        }
      ]
    },
    {
      "cell_type": "markdown",
      "source": [
        "**Now X_train_bow and X_test_bow contain the bag-of-words representations of the training and testing data respectively**"
      ],
      "metadata": {
        "id": "FJZLqBh51CO9"
      }
    },
    {
      "cell_type": "markdown",
      "source": [
        "#TF-IDF"
      ],
      "metadata": {
        "id": "kn2XAXWTOL-D"
      }
    },
    {
      "cell_type": "code",
      "source": [
        "from sklearn.feature_extraction.text import TfidfVectorizer\n",
        "\n",
        "# Initialize the TF-IDF vectorizer\n",
        "vectorizer_tfidf = TfidfVectorizer()\n",
        "\n",
        "# Fit and transform the training data\n",
        "x_train_tfidf = vectorizer_tfidf.fit_transform(x_train)\n",
        "\n",
        "# Transform the testing data\n",
        "x_test_tfidf = vectorizer_tfidf.transform(x_test)\n",
        "\n",
        "print(\"This is what TF-IDF representation looks like-\")\n",
        "print(x_train_tfidf[:10].toarray())\n",
        "print(\"\\n**TF-IDF Suuccessful!**\")"
      ],
      "metadata": {
        "colab": {
          "base_uri": "https://localhost:8080/"
        },
        "id": "tn0rgeoGONxI",
        "outputId": "f89f0533-e933-4326-b945-9bcb8352d228"
      },
      "execution_count": null,
      "outputs": [
        {
          "output_type": "stream",
          "name": "stdout",
          "text": [
            "This is what TF-IDF representation looks like-\n",
            "[[0. 0. 0. ... 0. 0. 0.]\n",
            " [0. 0. 0. ... 0. 0. 0.]\n",
            " [0. 0. 0. ... 0. 0. 0.]\n",
            " ...\n",
            " [0. 0. 0. ... 0. 0. 0.]\n",
            " [0. 0. 0. ... 0. 0. 0.]\n",
            " [0. 0. 0. ... 0. 0. 0.]]\n",
            "\n",
            "**TF-IDF Suuccessful!**\n"
          ]
        }
      ]
    },
    {
      "cell_type": "markdown",
      "source": [
        "#wordToVec"
      ],
      "metadata": {
        "id": "Oq7peQ2HOnEE"
      }
    },
    {
      "cell_type": "code",
      "source": [
        "import numpy as np\n",
        "from gensim.models import Word2Vec\n",
        "from nltk.tokenize import word_tokenize\n",
        "import nltk\n",
        "nltk.download('punkt')\n",
        "\n",
        "tokenized_train = [word_tokenize(text.lower()) for text in x_train]\n",
        "tokenized_test = [word_tokenize(text.lower()) for text in x_test]\n",
        "\n",
        "# Training Word2Vec model\n",
        "model_w2v = Word2Vec(sentences=tokenized_train, vector_size=100, window=5, min_count=1, workers=4)\n",
        "\n",
        "# Function to create average word vectors\n",
        "def feature_vectorizer(tokens, model):\n",
        "    words = [word for word in tokens if word in model.wv]\n",
        "    if words:\n",
        "        return np.mean(model.wv[words], axis=0)\n",
        "    else:\n",
        "        return np.zeros(100)\n",
        "\n",
        "# Transforming text into average vectors\n",
        "x_train_w2v = np.array([feature_vectorizer(text, model_w2v) for text in tokenized_train])\n",
        "x_test_w2v = np.array([feature_vectorizer(text, model_w2v) for text in tokenized_test])\n",
        "\n",
        "print(\"\\nThis is what Word To Vector(w2v) Representation looks like-\")\n",
        "print(x_train_w2v[:2])\n",
        "print(\"\\n**Word2Vec SUCCESSFULLY GENERATED!**\")"
      ],
      "metadata": {
        "colab": {
          "base_uri": "https://localhost:8080/"
        },
        "id": "0AG1oR5-OpSz",
        "outputId": "c2d95927-d327-43cd-dfe9-8e665d9212f4"
      },
      "execution_count": null,
      "outputs": [
        {
          "output_type": "stream",
          "name": "stderr",
          "text": [
            "[nltk_data] Downloading package punkt to /root/nltk_data...\n",
            "[nltk_data]   Package punkt is already up-to-date!\n"
          ]
        },
        {
          "output_type": "stream",
          "name": "stdout",
          "text": [
            "\n",
            "This is what Word To Vector(w2v) Representation looks like-\n",
            "[[-0.32488632  0.24875031  0.7091906   0.62616247  0.08940253 -0.31426674\n",
            "   0.69132054  0.7658315  -0.44001874 -0.65975046  0.4768306  -0.48870552\n",
            "  -0.11263651  0.19171181  0.41283408  0.19883606  0.80188423  0.30071914\n",
            "  -1.1873511  -0.91156554  0.1704704   0.06109537  0.9596731  -0.6920587\n",
            "   0.22368987  0.23729406  0.19482853  0.7446874  -0.4848268   0.3740386\n",
            "   0.10328111 -0.55129373  0.07035979 -0.72166175 -0.29343075  0.26146987\n",
            "   0.7571154   0.13201755  0.16523921  0.89449805 -0.05182334  0.52801186\n",
            "  -0.8554752  -0.1477642   0.07812133  0.42058885  0.19702749  0.23946537\n",
            "   0.2064757   0.6058834  -0.03227258 -0.18932602 -0.5673448  -0.43906766\n",
            "  -0.08520837  0.06133651  0.56975406 -0.02269164 -0.10805091  0.5614759\n",
            "  -0.4546945  -0.21156956  0.10593054 -0.6098134  -0.6110708   0.7379656\n",
            "   0.44085053  0.6976116  -0.04516224  0.33145297  0.6574431   0.20796421\n",
            "   0.8349245   0.3984675   0.01918834 -0.21731852  0.1219621  -0.09772287\n",
            "   0.03454417 -0.86137944 -1.3853984   0.02546353  0.7706348   0.09579445\n",
            "   0.11212748 -0.46429965  0.57671946 -1.035242    0.22015576  0.09335087\n",
            "   0.48784992  0.0066277   0.41929588 -0.89140946  1.3678529   0.80416256\n",
            "   0.0270677  -0.4025674   0.07002106 -0.03145183]\n",
            " [-0.33458674  0.24808948  0.69906944  0.61471796  0.08207445 -0.3466531\n",
            "   0.67660236  0.79143673 -0.44164324 -0.6643971   0.46125862 -0.5047872\n",
            "  -0.12902212  0.20172872  0.40884513  0.18004379  0.78899187  0.27962014\n",
            "  -1.149001   -0.919876    0.18266079  0.05680783  0.95171225 -0.67965657\n",
            "   0.22786061  0.2303144   0.17238428  0.74016356 -0.48454767  0.36989683\n",
            "   0.13276267 -0.535725    0.08376859 -0.725559   -0.28280136  0.26832026\n",
            "   0.75456727  0.11804506  0.16370104  0.8579947  -0.04778783  0.49588668\n",
            "  -0.8540376  -0.1398238   0.07863576  0.39613622  0.17682968  0.2377258\n",
            "   0.20996612  0.60929656 -0.02620502 -0.18746854 -0.56304723 -0.41504702\n",
            "  -0.08121803  0.06275509  0.5729565  -0.02915662 -0.11506179  0.5584653\n",
            "  -0.44899595 -0.20079473  0.10456841 -0.6072617  -0.6022996   0.7302444\n",
            "   0.4387221   0.68751466 -0.0527605   0.33559942  0.63455164  0.21818407\n",
            "   0.81935525  0.38293827  0.04063533 -0.20829207  0.11119269 -0.09201841\n",
            "   0.03560244 -0.8381827  -1.3612278   0.02945468  0.752635    0.10514864\n",
            "   0.09964903 -0.44829333  0.57389605 -1.0016669   0.22032636  0.09965822\n",
            "   0.49400312  0.01248083  0.411283   -0.8666296   1.3494235   0.7901166\n",
            "   0.02841994 -0.40540454  0.07009344 -0.0171304 ]]\n",
            "\n",
            "**Word2Vec SUCCESSFULLY GENERATED!**\n"
          ]
        }
      ]
    },
    {
      "cell_type": "markdown",
      "source": [
        "#using RandomForestClassifier"
      ],
      "metadata": {
        "id": "iHsnVhC-Qicb"
      }
    },
    {
      "cell_type": "code",
      "source": [
        "from sklearn.ensemble import RandomForestClassifier\n",
        "from sklearn.metrics import accuracy_score\n",
        "\n",
        "# Initialization\n",
        "rfc_bow = RandomForestClassifier()\n",
        "rfc_tfidf = RandomForestClassifier()\n",
        "rfc_w2v = RandomForestClassifier()\n",
        "\n",
        "# Training the classifiers on different feature sets\n",
        "rfc_bow.fit(x_train_bow, y_train)\n",
        "rfc_tfidf.fit(x_train_tfidf, y_train)\n",
        "rfc_w2v.fit(x_train_w2v, y_train)\n",
        "\n",
        "# Predicting sentiment labels for the testing data\n",
        "y_predict1 = rfc_bow.predict(x_test_bow)\n",
        "y_predict2 = rfc_tfidf.predict(x_test_tfidf)\n",
        "y_predict3 = rfc_w2v.predict(x_test_w2v)\n",
        "\n",
        "# Calculating the accuracy of model\n",
        "accuracy_rfc_BOW = accuracy_score(y_test, y_predict1)\n",
        "print(\"Random Forest Accuracy (BAG OF WORDS):\", accuracy_rfc_BOW)\n",
        "\n",
        "accuracy_rfc_tfidf = accuracy_score(y_test, y_predict2)\n",
        "print(\"Random Forest Accuracy(TF-IDF):\", accuracy_rfc_tfidf)\n",
        "\n",
        "accuracy_rfc_w2v = accuracy_score(y_test, y_predict3)\n",
        "print(\"Random Forest Accuracy:(W2V)\", accuracy_rfc_w2v)\n"
      ],
      "metadata": {
        "colab": {
          "base_uri": "https://localhost:8080/"
        },
        "id": "dhBhAXWt1YBT",
        "outputId": "c9afd350-eae5-4a0a-be62-8f96515bf2d6"
      },
      "execution_count": null,
      "outputs": [
        {
          "output_type": "stream",
          "name": "stdout",
          "text": [
            "Random Forest Accuracy (BAG OF WORDS): 0.727810650887574\n",
            "Random Forest Accuracy(TF-IDF): 0.7485207100591716\n",
            "Random Forest Accuracy:(W2V) 0.6863905325443787\n"
          ]
        }
      ]
    },
    {
      "cell_type": "markdown",
      "source": [
        "#Now lets do it using Naive_Bayes classifier"
      ],
      "metadata": {
        "id": "ELcYamMAL73j"
      }
    },
    {
      "cell_type": "code",
      "source": [
        "from sklearn.naive_bayes import MultinomialNB,GaussianNB\n",
        "from sklearn.metrics import accuracy_score\n",
        "\n",
        "# Initialization\n",
        "#multinomial -> design for count-based  feature vectors(non-negative integers),\n",
        "# word2vec contains continuous values(real numbers), so GaussianNB is more suitable\n",
        "nb_classifier_bow = MultinomialNB()\n",
        "nb_classifier_ifidf = MultinomialNB()\n",
        "nb_classifier_w2v = GaussianNB()\n",
        "\n",
        "# Train the classifier on training data BOW representation\n",
        "nb_classifier_bow.fit(x_train_bow, y_train)\n",
        "nb_classifier_ifidf.fit(x_train_tfidf, y_train)\n",
        "nb_classifier_w2v.fit(x_train_w2v, y_train)\n",
        "\n",
        "# Predicting sentiment labels for the testing data\n",
        "y_pred_nb1 = nb_classifier_bow.predict(x_test_bow)\n",
        "y_pred_nb2 = nb_classifier_ifidf.predict(x_test_tfidf)\n",
        "y_pred_nb3 = nb_classifier_w2v.predict(x_test_w2v)\n",
        "\n",
        "# Calculating the Naive bayes accuracy for different methods\n",
        "accuracy_nb_BOW = accuracy_score(y_test, y_pred_nb1)\n",
        "print(\"Naive Bayes Accuracy (BAG OF WORDS):\", accuracy_nb_BOW)\n",
        "\n",
        "accuracy_nb_tfidf = accuracy_score(y_test, y_pred_nb2)\n",
        "print(\"Naive Bayes Accuracy(TF-IDF):\", accuracy_nb_tfidf)\n",
        "\n",
        "accuracy_nb_w2v = accuracy_score(y_test, y_pred_nb3)\n",
        "print(\"Naive Bayes Accuracy (W2V): \", accuracy_nb_w2v)\n"
      ],
      "metadata": {
        "colab": {
          "base_uri": "https://localhost:8080/"
        },
        "id": "JDjrO1lEMExA",
        "outputId": "8631054a-8740-4394-ce73-f5689e9296f4"
      },
      "execution_count": null,
      "outputs": [
        {
          "output_type": "stream",
          "name": "stdout",
          "text": [
            "Naive Bayes Accuracy (BAG OF WORDS): 0.7603550295857988\n",
            "Naive Bayes Accuracy(TF-IDF): 0.727810650887574\n",
            "Naive Bayes Accuracy (W2V):  0.5443786982248521\n"
          ]
        }
      ]
    },
    {
      "cell_type": "markdown",
      "source": [
        "#Now,lets plot a table for comparing all different methods and classifiers"
      ],
      "metadata": {
        "id": "fHw9f9aWVnbY"
      }
    },
    {
      "cell_type": "code",
      "source": [
        "import matplotlib.pyplot as plt\n",
        "\n",
        "# Define the classifiers and methods\n",
        "classifiers = ['Random Forest', 'Naive Bayes']\n",
        "methods = ['Bag of Words', 'TF-IDF', 'Word2Vec']\n",
        "\n",
        "# Define the accuracy values\n",
        "rfc_accuracies = [accuracy_rfc_BOW, accuracy_rfc_tfidf,accuracy_rfc_w2v]\n",
        "nb_accuracies = [accuracy_nb_BOW, accuracy_nb_tfidf, accuracy_nb_w2v]\n",
        "\n",
        "# Create a comparison matrix\n",
        "comparison_matrix = [rfc_accuracies , nb_accuracies]\n",
        "\n",
        "# Plot the comparison matrix\n",
        "plt.figure(figsize=(8, 5))\n",
        "plt.imshow(comparison_matrix, interpolation='nearest', cmap='Blues', aspect='auto') #cmap->colormap\n",
        "#matrix title\n",
        "plt.title('Classifier Comparison')\n",
        "plt.colorbar(label='Accuracy')\n",
        "plt.xticks(range(len(methods)), methods)\n",
        "plt.yticks(range(len(classifiers)), classifiers)\n",
        "plt.xlabel('Text Representation Method')\n",
        "plt.ylabel('Classifier')\n",
        "plt.show()"
      ],
      "metadata": {
        "colab": {
          "base_uri": "https://localhost:8080/",
          "height": 487
        },
        "id": "2yIo1NoYV0Du",
        "outputId": "6a034931-56e1-41a1-f2ea-c49a2dc83402"
      },
      "execution_count": null,
      "outputs": [
        {
          "output_type": "display_data",
          "data": {
            "text/plain": [
              "<Figure size 800x500 with 2 Axes>"
            ],
            "image/png": "[encoded data removed]"
          },
          "metadata": {}
        }
      ]
    },
    {
      "cell_type": "markdown",
      "source": [
        "#Let's now calculate the most effective method ***(mathematically)***"
      ],
      "metadata": {
        "id": "Uh2fiqzCWXO9"
      }
    },
    {
      "cell_type": "code",
      "source": [
        "# Calculate the average accuracy for each method\n",
        "avg_accuracy_bow = (accuracy_rfc_BOW + accuracy_nb_BOW) / 2\n",
        "avg_accuracy_tfidf = (accuracy_rfc_tfidf + accuracy_nb_tfidf) / 2\n",
        "avg_accuracy_w2v = (accuracy_rfc_w2v + accuracy_nb_w2v) / 2\n",
        "\n",
        "# Print the average accuracies\n",
        "print(\"Average Accuracy (Bag of Words):\", avg_accuracy_bow)\n",
        "print(\"Average Accuracy (TF-IDF):\", avg_accuracy_tfidf)\n",
        "print(\"Average Accuracy (Word2Vec):\", avg_accuracy_w2v)\n",
        "\n",
        "# Determine the most effective method\n",
        "most_effective_method = max(avg_accuracy_bow, avg_accuracy_tfidf, )#avg_accuracy_w2v)\n",
        "if most_effective_method == avg_accuracy_bow:\n",
        "    print(\"Most effective method: Bag of Words\")\n",
        "elif most_effective_method == avg_accuracy_tfidf:\n",
        "    print(\"Most effective method: TF-IDF\")\n",
        "else:\n",
        "    print(\"Most effective method: Word2Vec\")\n"
      ],
      "metadata": {
        "colab": {
          "base_uri": "https://localhost:8080/"
        },
        "id": "Pw4W8tJhWK2J",
        "outputId": "fd4a244d-240b-4d51-d107-acf3765ccce3"
      },
      "execution_count": null,
      "outputs": [
        {
          "output_type": "stream",
          "name": "stdout",
          "text": [
            "Average Accuracy (Bag of Words): 0.7470414201183432\n",
            "Average Accuracy (TF-IDF): 0.735207100591716\n",
            "Average Accuracy (Word2Vec): 0.6153846153846154\n",
            "Most effective method: Bag of Words\n"
          ]
        }
      ]
    }
  ]
}