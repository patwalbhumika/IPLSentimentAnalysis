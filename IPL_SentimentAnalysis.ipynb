{
  "nbformat": 4,
  "nbformat_minor": 0,
  "metadata": {
    "colab": {
      "provenance": [],
      "mount_file_id": "1g9QXUvWufoapXMnjbePszlWo3j9xuzq5",
      "authorship_tag": "ABX9TyOWN5wMcAT0NVP/vd6gSRGn",
      "include_colab_link": true
    },
    "kernelspec": {
      "name": "python3",
      "display_name": "Python 3"
    },
    "language_info": {
      "name": "python"
    }
  },
  "cells": [
    {
      "cell_type": "markdown",
      "metadata": {
        "id": "view-in-github",
        "colab_type": "text"
      },
      "source": [
        "<a href=\"https://colab.research.google.com/github/patwalbhumika/IPLSentimentAnalysis/blob/main/IPL_SentimentAnalysis.ipynb\" target=\"_parent\"><img src=\"https://colab.research.google.com/assets/colab-badge.svg\" alt=\"Open In Colab\"/></a>"
      ]
    },
    {
      "cell_type": "code",
      "execution_count": null,
      "metadata": {
        "colab": {
          "base_uri": "https://localhost:8080/"
        },
        "id": "X4vMqMaXx3fv",
        "outputId": "2cd03153-e6c6-4abb-a57a-f5d0d02bb279"
      },
      "outputs": [
        {
          "output_type": "stream",
          "name": "stdout",
          "text": [
            "Drive already mounted at /content/drive; to attempt to forcibly remount, call drive.mount(\"/content/drive\", force_remount=True).\n"
          ]
        }
      ],
      "source": [
        "from google.colab import drive\n",
        "import pandas as pd\n",
        "drive.mount('/content/drive')"
      ]
    },
    {
      "cell_type": "code",
      "source": [
        "file_path = '/content/drive/MyDrive/Labelled_Dataset.csv'\n",
        "# Load dataset into pandas DataFrame\n",
        "data = pd.read_csv(file_path)\n",
        "\n",
        "#to display size\n",
        "print(\"size and columns of training_dataset- \",data.shape)\n",
        "\n",
        "#to display count of different values\n",
        "value_counts = data['Sentiment'].value_counts()\n",
        "print(value_counts)\n"
      ],
      "metadata": {
        "colab": {
          "base_uri": "https://localhost:8080/"
        },
        "id": "9Y1oTcygzMmy",
        "outputId": "e97c94af-a37b-453e-a9ed-f3f6b74b5a4e"
      },
      "execution_count": null,
      "outputs": [
        {
          "output_type": "stream",
          "name": "stdout",
          "text": [
            "size and columns of training_dataset-  (1690, 2)\n",
            "Sentiment\n",
            "Positive    1246\n",
            "Neutral      292\n",
            "Negative     152\n",
            "Name: count, dtype: int64\n"
          ]
        }
      ]
    },
    {
      "cell_type": "code",
      "source": [
        "import pandas as pd\n",
        "from sklearn.feature_extraction.text import CountVectorizer\n",
        "from sklearn.model_selection import train_test_split\n",
        "print(\"DONE\")"
      ],
      "metadata": {
        "colab": {
          "base_uri": "https://localhost:8080/"
        },
        "id": "BkyZK9WmzbZe",
        "outputId": "338504ce-fea7-4c92-ea20-4f5f0b159911"
      },
      "execution_count": null,
      "outputs": [
        {
          "output_type": "stream",
          "name": "stdout",
          "text": [
            "DONE\n"
          ]
        }
      ]
    },
    {
      "cell_type": "code",
      "source": [
        "x_train, x_test, y_train, y_test = train_test_split(data['english_text'], data['Sentiment'], test_size=0.2, random_state=42)\n",
        "\n",
        "#converts them into 1Darray\n",
        "y_train=y_train.values\n",
        "y_test=y_test.values\n"
      ],
      "metadata": {
        "id": "WkQ8mHwb0r9b"
      },
      "execution_count": null,
      "outputs": []
    },
    {
      "cell_type": "markdown",
      "source": [
        "#BAG OF WORDS"
      ],
      "metadata": {
        "id": "VWIqEEvoN9Zx"
      }
    },
    {
      "cell_type": "code",
      "source": [
        "# Initialising CountVectorizer\n",
        "vectorizer = CountVectorizer()\n",
        "\n",
        "# Fit and transform the training data\n",
        "x_train_bow = vectorizer.fit_transform(x_train)\n",
        "\n",
        "# Transform the testing data\n",
        "x_test_bow = vectorizer.transform(x_test)\n",
        "\n",
        "print(\"This is what Bag Of Words(BOW) Representation looks like-\")\n",
        "print(x_train_bow[:10].toarray())\n",
        "print(\"\\n**Bag Of Words SUCCESSFUL**\")"
      ],
      "metadata": {
        "colab": {
          "base_uri": "https://localhost:8080/"
        },
        "id": "F4ja51rUOCae",
        "outputId": "b743b201-8dbf-4b0b-89c1-e57a1d6cc8da"
      },
      "execution_count": null,
      "outputs": [
        {
          "output_type": "stream",
          "name": "stdout",
          "text": [
            "This is what Bag Of Words(BOW) Representation looks like-\n",
            "[[0 0 0 ... 0 0 0]\n",
            " [0 0 0 ... 0 0 0]\n",
            " [0 0 0 ... 0 0 0]\n",
            " ...\n",
            " [0 0 0 ... 0 0 0]\n",
            " [0 0 0 ... 0 0 0]\n",
            " [0 0 0 ... 0 0 0]]\n",
            "\n",
            "**Bag Of Words SUCCESSFUL**\n"
          ]
        }
      ]
    },
    {
      "cell_type": "markdown",
      "source": [
        "**Now X_train_bow and X_test_bow contain the bag-of-words representations of the training and testing data respectively**"
      ],
      "metadata": {
        "id": "FJZLqBh51CO9"
      }
    },
    {
      "cell_type": "markdown",
      "source": [
        "#TF-IDF"
      ],
      "metadata": {
        "id": "kn2XAXWTOL-D"
      }
    },
    {
      "cell_type": "code",
      "source": [
        "from sklearn.feature_extraction.text import TfidfVectorizer\n",
        "\n",
        "# Initialize the TF-IDF vectorizer\n",
        "vectorizer_tfidf = TfidfVectorizer()\n",
        "\n",
        "# Fit and transform the training data\n",
        "x_train_tfidf = vectorizer_tfidf.fit_transform(x_train)\n",
        "\n",
        "# Transform the testing data\n",
        "x_test_tfidf = vectorizer_tfidf.transform(x_test)\n",
        "\n",
        "print(\"This is what TF-IDF representation looks like-\")\n",
        "print(x_train_tfidf[:10].toarray())\n",
        "print(\"\\n**TF-IDF Suuccessful!**\")"
      ],
      "metadata": {
        "colab": {
          "base_uri": "https://localhost:8080/"
        },
        "id": "tn0rgeoGONxI",
        "outputId": "2d2e87d4-72eb-472d-97fe-42fbd671ac54"
      },
      "execution_count": null,
      "outputs": [
        {
          "output_type": "stream",
          "name": "stdout",
          "text": [
            "This is what TF-IDF representation looks like-\n",
            "[[0. 0. 0. ... 0. 0. 0.]\n",
            " [0. 0. 0. ... 0. 0. 0.]\n",
            " [0. 0. 0. ... 0. 0. 0.]\n",
            " ...\n",
            " [0. 0. 0. ... 0. 0. 0.]\n",
            " [0. 0. 0. ... 0. 0. 0.]\n",
            " [0. 0. 0. ... 0. 0. 0.]]\n",
            "\n",
            "**TF-IDF Suuccessful!**\n"
          ]
        }
      ]
    },
    {
      "cell_type": "markdown",
      "source": [
        "#wordToVec"
      ],
      "metadata": {
        "id": "Oq7peQ2HOnEE"
      }
    },
    {
      "cell_type": "code",
      "source": [
        "import numpy as np\n",
        "from gensim.models import Word2Vec\n",
        "from nltk.tokenize import word_tokenize\n",
        "import nltk\n",
        "nltk.download('punkt')\n",
        "\n",
        "tokenized_train = [word_tokenize(text.lower()) for text in x_train]\n",
        "tokenized_test = [word_tokenize(text.lower()) for text in x_test]\n",
        "\n",
        "# Training Word2Vec model\n",
        "model_w2v = Word2Vec(sentences=tokenized_train, vector_size=100, window=5, min_count=1, workers=4)\n",
        "\n",
        "# Function to create average word vectors\n",
        "def feature_vectorizer(tokens, model):\n",
        "    words = [word for word in tokens if word in model.wv]\n",
        "    if words:\n",
        "        return np.mean(model.wv[words], axis=0)\n",
        "    else:\n",
        "        return np.zeros(100)\n",
        "\n",
        "# Transforming text into average vectors\n",
        "x_train_w2v = np.array([feature_vectorizer(text, model_w2v) for text in tokenized_train])\n",
        "x_test_w2v = np.array([feature_vectorizer(text, model_w2v) for text in tokenized_test])\n",
        "\n",
        "print(\"\\nThis is what Word To Vector(w2v) Representation looks like-\")\n",
        "print(x_train_w2v[:2])\n",
        "print(\"\\n**Word2Vec SUCCESSFULLY GENERATED!**\")"
      ],
      "metadata": {
        "colab": {
          "base_uri": "https://localhost:8080/"
        },
        "id": "0AG1oR5-OpSz",
        "outputId": "7c1ccee0-9c21-4d4c-cdcd-bac218173e7d"
      },
      "execution_count": null,
      "outputs": [
        {
          "output_type": "stream",
          "name": "stderr",
          "text": [
            "[nltk_data] Downloading package punkt to /root/nltk_data...\n",
            "[nltk_data]   Unzipping tokenizers/punkt.zip.\n"
          ]
        },
        {
          "output_type": "stream",
          "name": "stdout",
          "text": [
            "\n",
            "This is what Word To Vector(w2v) Representation looks like-\n",
            "[[-7.29566932e-01  5.29964209e-01  3.73932362e-01  7.36098766e-01\n",
            "   3.48778695e-01 -6.01149946e-02  9.02263224e-01  4.24850851e-01\n",
            "  -6.24795496e-01 -8.70468676e-01  3.73567671e-01 -5.63588917e-01\n",
            "  -3.16635340e-01  1.34410053e-01  4.42639768e-01  3.72389942e-01\n",
            "   1.00604165e+00  8.89092028e-01 -1.09205437e+00 -7.04536140e-01\n",
            "   7.04093516e-01  1.17642149e-01  1.35156476e+00 -7.25480556e-01\n",
            "   2.33673722e-01  3.00725162e-01 -2.56425202e-01  4.79370475e-01\n",
            "  -2.64047682e-01  5.85987091e-01  1.78601816e-01 -9.61132884e-01\n",
            "  -2.47232601e-01 -9.02760863e-01 -1.68187067e-01  1.38247088e-01\n",
            "   7.25388825e-01  6.71470344e-01  2.71893829e-01  6.34103298e-01\n",
            "   2.20857129e-01 -1.99244842e-01 -5.34157693e-01 -1.92253031e-02\n",
            "   3.48890185e-01  6.10408604e-01 -4.69935872e-02  1.80695638e-01\n",
            "   3.16364169e-01  5.37097931e-01  2.82281488e-02 -3.68341535e-01\n",
            "  -2.63381183e-01 -5.63559592e-01 -3.63546520e-01  1.53292909e-01\n",
            "   3.90428275e-01 -4.05181348e-02 -3.98593932e-01  3.15265834e-01\n",
            "  -5.84313810e-01 -1.62298277e-01  3.57780606e-01 -1.80732027e-01\n",
            "   1.85433477e-01  7.82968402e-01  2.17357934e-01  4.76345569e-01\n",
            "  -1.26883864e-01  3.86139229e-02  3.24128598e-01 -1.19152039e-01\n",
            "   6.14521086e-01  3.51679385e-01 -5.70799053e-01 -2.14581534e-01\n",
            "   1.08421072e-01 -3.03582940e-03  2.58135498e-01 -9.68932390e-01\n",
            "  -8.52879226e-01 -2.17982054e-01  3.99692774e-01 -3.95763308e-01\n",
            "   4.40165132e-01 -2.74006724e-01  6.27819121e-01 -8.97417963e-01\n",
            "  -3.75119783e-03 -2.66363800e-01 -5.89485057e-02  1.91373061e-02\n",
            "   3.73208344e-01 -4.58734095e-01  7.70079613e-01  3.26750100e-01\n",
            "   2.56849796e-01 -2.15593070e-01 -4.13043469e-01  7.28081912e-02]\n",
            " [-7.36608207e-01  5.29385626e-01  3.70581150e-01  7.23181784e-01\n",
            "   3.43741149e-01 -9.03140008e-02  8.93513083e-01  4.52551574e-01\n",
            "  -6.25870824e-01 -8.70773852e-01  3.58453691e-01 -5.81541419e-01\n",
            "  -3.25657994e-01  1.43096298e-01  4.39894229e-01  3.61864120e-01\n",
            "   9.96906161e-01  8.68118346e-01 -1.06434619e+00 -7.18473136e-01\n",
            "   7.04276323e-01  1.15135685e-01  1.33445239e+00 -7.20175207e-01\n",
            "   2.35910311e-01  2.90765822e-01 -2.64656156e-01  4.75162148e-01\n",
            "  -2.64718890e-01  5.79403758e-01  2.02895582e-01 -9.39742148e-01\n",
            "  -2.32637897e-01 -9.11780059e-01 -1.57034233e-01  1.49740368e-01\n",
            "   7.37132430e-01  6.55914068e-01  2.69304782e-01  6.09064400e-01\n",
            "   2.29826137e-01 -2.19502956e-01 -5.42180479e-01 -1.83986854e-02\n",
            "   3.47873360e-01  5.87950647e-01 -6.11404702e-02  1.79702684e-01\n",
            "   3.23898762e-01  5.38756967e-01  3.81312780e-02 -3.70379984e-01\n",
            "  -2.58595526e-01 -5.39125085e-01 -3.54843497e-01  1.60073280e-01\n",
            "   4.02066201e-01 -4.37722430e-02 -4.03379977e-01  3.22019160e-01\n",
            "  -5.79054773e-01 -1.49374142e-01  3.57288480e-01 -1.79266155e-01\n",
            "   1.84131935e-01  7.86879420e-01  2.23572701e-01  4.74643439e-01\n",
            "  -1.40421361e-01  5.34979664e-02  3.06704819e-01 -1.10693261e-01\n",
            "   6.19161606e-01  3.42236936e-01 -5.41888356e-01 -2.11579815e-01\n",
            "   9.88641977e-02 -2.21422510e-04  2.65524894e-01 -9.56990302e-01\n",
            "  -8.54056239e-01 -2.09863842e-01  3.91003162e-01 -3.77309650e-01\n",
            "   4.23391521e-01 -2.64201611e-01  6.32390261e-01 -8.70291591e-01\n",
            "   9.00718383e-03 -2.51501173e-01 -3.30080166e-02  3.14216167e-02\n",
            "   3.67374718e-01 -4.47980732e-01  7.82915533e-01  3.30160111e-01\n",
            "   2.56441146e-01 -2.28870422e-01 -4.10493106e-01  7.95688108e-02]]\n",
            "\n",
            "**Word2Vec SUCCESSFULLY GENERATED!**\n"
          ]
        }
      ]
    },
    {
      "cell_type": "markdown",
      "source": [
        "#using RandomForestClassifier"
      ],
      "metadata": {
        "id": "iHsnVhC-Qicb"
      }
    },
    {
      "cell_type": "code",
      "source": [
        "from sklearn.ensemble import RandomForestClassifier\n",
        "from sklearn.metrics import accuracy_score\n",
        "\n",
        "# Initialization\n",
        "rfc_bow = RandomForestClassifier()\n",
        "rfc_tfidf = RandomForestClassifier()\n",
        "rfc_w2v = RandomForestClassifier()\n",
        "\n",
        "# Training the classifiers on different feature sets\n",
        "rfc_bow.fit(x_train_bow, y_train)\n",
        "rfc_tfidf.fit(x_train_tfidf, y_train)\n",
        "rfc_w2v.fit(x_train_w2v, y_train)\n",
        "\n",
        "# Predicting sentiment labels for the testing data\n",
        "y_predict1 = rfc_bow.predict(x_test_bow)\n",
        "y_predict2 = rfc_tfidf.predict(x_test_tfidf)\n",
        "y_predict3 = rfc_w2v.predict(x_test_w2v)\n",
        "\n",
        "# Calculating the accuracy of model\n",
        "accuracy_rfc_BOW = accuracy_score(y_test, y_predict1)\n",
        "print(\"Random Forest Accuracy (BAG OF WORDS):\", accuracy_rfc_BOW)\n",
        "\n",
        "accuracy_rfc_tfidf = accuracy_score(y_test, y_predict2)\n",
        "print(\"Random Forest Accuracy(TF-IDF):\", accuracy_rfc_tfidf)\n",
        "\n",
        "accuracy_rfc_w2v = accuracy_score(y_test, y_predict3)\n",
        "print(\"Random Forest Accuracy:(W2V)\", accuracy_rfc_w2v)\n"
      ],
      "metadata": {
        "colab": {
          "base_uri": "https://localhost:8080/"
        },
        "id": "dhBhAXWt1YBT",
        "outputId": "9f73bd2f-cc1f-4191-c4ab-00b0d27edde7"
      },
      "execution_count": null,
      "outputs": [
        {
          "output_type": "stream",
          "name": "stdout",
          "text": [
            "Random Forest Accuracy (BAG OF WORDS): 0.7337278106508875\n",
            "Random Forest Accuracy(TF-IDF): 0.7485207100591716\n",
            "Random Forest Accuracy:(W2V) 0.6804733727810651\n"
          ]
        }
      ]
    },
    {
      "cell_type": "markdown",
      "source": [
        "#Now lets do it using Naive_Bayes classifier"
      ],
      "metadata": {
        "id": "ELcYamMAL73j"
      }
    },
    {
      "cell_type": "code",
      "source": [
        "from sklearn.naive_bayes import MultinomialNB,GaussianNB\n",
        "from sklearn.metrics import accuracy_score\n",
        "\n",
        "# Initialization\n",
        "#multinomial -> design for count-based  feature vectors(non-negative integers),\n",
        "# word2vec contains continuous values(real numbers), so GaussianNB is more suitable\n",
        "nb_classifier_bow = MultinomialNB()\n",
        "nb_classifier_ifidf = MultinomialNB()\n",
        "nb_classifier_w2v = GaussianNB()\n",
        "\n",
        "# Train the classifier on training data BOW representation\n",
        "nb_classifier_bow.fit(x_train_bow, y_train)\n",
        "nb_classifier_ifidf.fit(x_train_tfidf, y_train)\n",
        "nb_classifier_w2v.fit(x_train_w2v, y_train)\n",
        "\n",
        "# Predicting sentiment labels for the testing data\n",
        "y_pred_nb1 = nb_classifier_bow.predict(x_test_bow)\n",
        "y_pred_nb2 = nb_classifier_ifidf.predict(x_test_tfidf)\n",
        "y_pred_nb3 = nb_classifier_w2v.predict(x_test_w2v)\n",
        "\n",
        "# Calculating the Naive bayes accuracy for different methods\n",
        "accuracy_nb_BOW = accuracy_score(y_test, y_pred_nb1)\n",
        "print(\"Naive Bayes Accuracy (BAG OF WORDS):\", accuracy_nb_BOW)\n",
        "\n",
        "accuracy_nb_tfidf = accuracy_score(y_test, y_pred_nb2)\n",
        "print(\"Naive Bayes Accuracy(TF-IDF):\", accuracy_nb_tfidf)\n",
        "\n",
        "accuracy_nb_w2v = accuracy_score(y_test, y_pred_nb3)\n",
        "print(\"Naive Bayes Accuracy (W2V): \", accuracy_nb_w2v)\n"
      ],
      "metadata": {
        "colab": {
          "base_uri": "https://localhost:8080/"
        },
        "id": "JDjrO1lEMExA",
        "outputId": "bd1b684c-9930-4478-9869-3831a970e3e6"
      },
      "execution_count": null,
      "outputs": [
        {
          "output_type": "stream",
          "name": "stdout",
          "text": [
            "Naive Bayes Accuracy (BAG OF WORDS): 0.7603550295857988\n",
            "Naive Bayes Accuracy(TF-IDF): 0.727810650887574\n",
            "Naive Bayes Accuracy (W2V):  0.5473372781065089\n"
          ]
        }
      ]
    },
    {
      "cell_type": "markdown",
      "source": [
        "#using SVM(Support Vector Machine) Algorithm"
      ],
      "metadata": {
        "id": "arLXGpPdhv7K"
      }
    },
    {
      "cell_type": "code",
      "source": [
        "from sklearn.svm import SVC\n",
        "from sklearn.metrics import accuracy_score\n",
        "\n",
        "# Initialize SVM Classifier\n",
        "svm_classifier = SVC()\n",
        "\n",
        "# Function to train and evaluate classifier\n",
        "def train_and_evaluate(clf, x_train, y_train, x_test, y_test):\n",
        "    # Convert sparse matrix to dense if necessary\n",
        "    if hasattr(x_train, \"toarray\"):\n",
        "        x_train = x_train.toarray()\n",
        "    if hasattr(x_test, \"toarray\"):\n",
        "        x_test = x_test.toarray()\n",
        "\n",
        "    clf.fit(x_train, y_train)\n",
        "    predictions = clf.predict(x_test)\n",
        "    accuracy = accuracy_score(y_test, predictions)\n",
        "    return accuracy\n",
        "\n",
        "# Applying SVM classifier separately to each method\n",
        "methods = ['Bag of Words', 'TF-IDF', 'Word2Vec']\n",
        "representations = [(x_train_bow, x_test_bow), (x_train_tfidf, x_test_tfidf), (x_train_w2v, x_test_w2v)]\n",
        "\n",
        "# Store accuracies in separate variables\n",
        "accuracy_svm_BOW = train_and_evaluate(svm_classifier, representations[0][0], y_train, representations[0][1], y_test)\n",
        "print(f\"SVM Accuracy (Bag of Words): {accuracy_svm_BOW}\")\n",
        "\n",
        "accuracy_svm_tfidf = train_and_evaluate(svm_classifier, representations[1][0], y_train, representations[1][1], y_test)\n",
        "print(f\"SVM Accuracy (TF-IDF): {accuracy_svm_tfidf}\")\n",
        "\n",
        "accuracy_svm_w2v = train_and_evaluate(svm_classifier, representations[2][0], y_train, representations[2][1], y_test)\n",
        "print(f\"SVM Accuracy (Word2Vec): {accuracy_svm_w2v}\")\n"
      ],
      "metadata": {
        "colab": {
          "base_uri": "https://localhost:8080/"
        },
        "id": "zJrn5w8Vhuac",
        "outputId": "dd01a02f-01ae-4995-e6b5-28a1c50ff5e7"
      },
      "execution_count": null,
      "outputs": [
        {
          "output_type": "stream",
          "name": "stdout",
          "text": [
            "SVM Accuracy (Bag of Words): 0.7071005917159763\n",
            "SVM Accuracy (TF-IDF): 0.7514792899408284\n",
            "SVM Accuracy (Word2Vec): 0.7041420118343196\n"
          ]
        }
      ]
    },
    {
      "cell_type": "markdown",
      "source": [
        "#Now,lets plot a table for comparing all different methods and classifiers"
      ],
      "metadata": {
        "id": "fHw9f9aWVnbY"
      }
    },
    {
      "cell_type": "code",
      "source": [
        "import matplotlib.pyplot as plt\n",
        "import numpy as np\n",
        "\n",
        "# Define the accuracy values\n",
        "BOW_accuracies = [accuracy_rfc_BOW, accuracy_nb_BOW, accuracy_svm_BOW]\n",
        "tfidf_accuracies = [accuracy_rfc_tfidf, accuracy_nb_tfidf, accuracy_svm_tfidf]\n",
        "w2v_accuracies = [accuracy_rfc_w2v, accuracy_nb_w2v, accuracy_svm_w2v]\n",
        "\n",
        "# Define the classifiers and methods\n",
        "models = ['Random Forest', 'Naive Bayes', 'SVM']\n",
        "methods = ['BOW', 'TF-IDF', 'Word2Vec']\n",
        "\n",
        "# Create data for plotting\n",
        "data = np.array([BOW_accuracies, tfidf_accuracies, w2v_accuracies])\n",
        "\n",
        "# Set the width of the bars\n",
        "bar_width = 0.2\n",
        "\n",
        "# Set the x locations for the groups\n",
        "index = np.arange(len(models))\n",
        "\n",
        "# Plot the bar charts\n",
        "plt.figure(figsize=(10, 6))\n",
        "\n",
        "for i, method in enumerate(methods):\n",
        "    bars = plt.bar(index + i * bar_width, data[i], bar_width, label=method)\n",
        "    # Add text annotations\n",
        "    for bar in bars:\n",
        "        yval = bar.get_height()\n",
        "        plt.text(bar.get_x() + bar.get_width()/2, yval, f'{yval:.2f}', ha='center', va='bottom', fontsize=8)\n",
        "\n",
        "# Add labels and titles\n",
        "plt.title('Classifier Comparison by Text Representation Method')\n",
        "plt.xlabel('Models')\n",
        "plt.ylabel('Accuracy')\n",
        "plt.xticks(index + bar_width, models)\n",
        "plt.legend(title='Methods')\n",
        "\n",
        "plt.show()\n"
      ],
      "metadata": {
        "colab": {
          "base_uri": "https://localhost:8080/",
          "height": 564
        },
        "id": "fGN95UXIZH_3",
        "outputId": "9549b79c-bf67-4c89-fb8f-f7f6ad7b2095"
      },
      "execution_count": null,
      "outputs": [
        {
          "output_type": "display_data",
          "data": {
            "text/plain": [
              "<Figure size 1000x600 with 1 Axes>"
            ],
            "image/png": "[encoded data removed]"
          },
          "metadata": {}
        }
      ]
    }
  ]
}